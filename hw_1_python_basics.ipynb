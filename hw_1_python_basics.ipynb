{
 "cells": [
  {
   "cell_type": "markdown",
   "metadata": {},
   "source": [
    "Домашняя работа \"Основы Python\""
   ]
  },
  {
   "cell_type": "markdown",
   "metadata": {},
   "source": [
    "Задание 1\n",
    "\n",
    "Даны 2 переменных, в которых хранятся строки произвольной длины: phrase_1 и phrase_2.\n",
    "Напишите код, который проверяет какая из этих строк длиннее."
   ]
  },
  {
   "cell_type": "code",
   "execution_count": 6,
   "metadata": {},
   "outputs": [],
   "source": [
    "phrase_1 = '640Кб должно хватить для любых задач. Билл Гейтс (по легенде)'\n",
    "phrase_2 = 'Насколько проще было бы писать программы, если бы не заказчики'"
   ]
  },
  {
   "cell_type": "code",
   "execution_count": 7,
   "metadata": {},
   "outputs": [
    {
     "name": "stdout",
     "output_type": "stream",
     "text": [
      "Фраза 2 длиннее фразы 1\n"
     ]
    }
   ],
   "source": [
    "if len(phrase_1)>len(phrase_2):\n",
    "    print ('Фраза 1 длиннее фразы 2')\n",
    "elif len(phrase_2)>len(phrase_1): \n",
    "    print ('Фраза 2 длиннее фразы 1')\n",
    "else:\n",
    "    print('Фразы равной длины')"
   ]
  },
  {
   "cell_type": "markdown",
   "metadata": {},
   "source": [
    "Задание 2\n",
    "\n",
    "Дана переменная, в которой хранится четырехзначное число (год). Необходимо написать программу, которая выведет, является ли данный год високосным или обычным.\n",
    "\n",
    "Распределение високосных годов:\n",
    "год, номер которого кратен 400, — високосный;\n",
    "остальные годы, номер которых кратен 100, — невисокосные;\n",
    "остальные годы, номер которых кратен 4 - високосные."
   ]
  },
  {
   "cell_type": "code",
   "execution_count": 11,
   "metadata": {},
   "outputs": [
    {
     "name": "stdout",
     "output_type": "stream",
     "text": [
      "1900\n",
      "Обычный год\n"
     ]
    }
   ],
   "source": [
    "year = int(input())\n",
    "if year%400 == 0:\n",
    "    print('Високосный год')\n",
    "elif year%4==0 and year%100 !=0:\n",
    "    print('Високосный год')\n",
    "else:\n",
    "    print('Обычный год')"
   ]
  },
  {
   "cell_type": "markdown",
   "metadata": {},
   "source": [
    "Задание 3\n",
    "\n",
    "Необходимо написать программу, которая будет запрашивать у пользователя месяц и дату рождения и выводить соответствующий знак зодиака.\n",
    "\n",
    "Овен\t 21 марта — 20 апреля,\n",
    "Телец\t 21 апреля — 21 мая,\n",
    "Близнецы 22 мая — 21 июня,\n",
    "Рак\t 22 июня — 22 июля,\n",
    "Лев\t 23 июля — 21 августа,\n",
    "Дева\t 22 августа — 23 сентября,\n",
    "Весы\t 24 сентября — 23 октября,\n",
    "Скорпион 24 октября — 22 ноября,\n",
    "Стрелец\t 23 ноября — 22 декабря,\n",
    "Козерог\t 23 декабря — 20 января,\n",
    "Водолей\t 21 января — 19 февраля,\n",
    "Рыбы\t 20 февраля — 20 марта"
   ]
  },
  {
   "cell_type": "code",
   "execution_count": 17,
   "metadata": {},
   "outputs": [
    {
     "name": "stdout",
     "output_type": "stream",
     "text": [
      "введите название месяца рождения\n",
      "ЯНВАрь\n",
      "введите день рождения\n",
      "4\n",
      "Козерог\n"
     ]
    }
   ],
   "source": [
    "print('введите название месяца рождения')\n",
    "m = input()\n",
    "m = m.lower()\n",
    "print('введите день рождения')\n",
    "day = int(input())\n",
    "\n",
    "if (m =='март' and day>=21 and day <=31) or (m =='апрель' and day <=20 and day >=1):\n",
    "    print('Овен')\n",
    "elif (m =='апрель' and day>=21 and day <=30) or (m =='май' and day <=21 and day >=1):\n",
    "    print('Телец')\n",
    "elif (m =='май' and day>=22 and day <=31) or (m =='июнь' and day <=21 and day >=1):\n",
    "    print('Близнецы')\n",
    "elif (m =='июнь' and day>=22 and day <=30) or (m =='июль' and day <=22 and day >=1):\n",
    "    print('Рак')\n",
    "elif (m =='июль' and day>=23 and day <=31) or (m =='август' and day <=21 and day >=1):\n",
    "    print('Лев')\n",
    "elif (m =='август' and day>=22 and day <=31) or (m =='сентябрь' and day <=23 and day >=1):\n",
    "    print('Дева')\n",
    "elif (m =='сентябрь' and day>=24 and day <=30) or (m =='октябрь' and day <=23 and day >=1):\n",
    "    print('Весы')\n",
    "elif (m =='октябрь' and day>=24 and day <=31) or (m =='ноябрь' and day <=22 and day >=1):\n",
    "    print('Скорпион')\n",
    "elif (m =='ноябрь' and day>=22 and day <=30) or (m =='декабрь' and day <=22 and day >=1):\n",
    "    print('Стрелец')\n",
    "elif (m =='декабрь' and day>=23 and day <=31) or (m =='январь' and day <=20 and day >=1):\n",
    "    print('Козерог')\n",
    "elif (m =='январь' and day>=21 and day <=31) or (m =='февраль' and day <=19 and day >=1):\n",
    "    print('Водолей')\n",
    "elif (m =='февраль' and day>=20 and day <=29) or (m =='март' and day <=20 and day >=1):\n",
    "    print('Рыбы')\n",
    "else:\n",
    "    print('Вы ошиблись при вводе месяца или дня, попробуйте еще раз')"
   ]
  },
  {
   "cell_type": "markdown",
   "metadata": {},
   "source": [
    "Задание 4\n",
    "\n",
    "Вам нужно написать программу для подбора упаковок по размерам товара. Размеры хранятся в переменных (в сантиметрах):\n",
    "\n",
    "width = 10\n",
    "length = 205\n",
    "height = 5\n",
    "\n",
    "Используйте следующие правила:\n",
    "\n",
    "если каждое из трех измерений менее 15 сантиметров, то выведите на экран \"Коробка №1\";\n",
    "если хотя бы одно из измерений больше 15 сантиметров, но менее 50 сантиметров, то выводите \"Коробка №2\";\n",
    "если длина товара больше 2 метров, то выводите \"Упаковка для лыж\";\n",
    "во всех остальных случаях выводите \"Стандартная коробка №3\"."
   ]
  },
  {
   "cell_type": "code",
   "execution_count": 23,
   "metadata": {},
   "outputs": [
    {
     "name": "stdout",
     "output_type": "stream",
     "text": [
      "Стандартная коробка №3\n"
     ]
    }
   ],
   "source": [
    "width = 10\n",
    "length = 45\n",
    "height = 2000\n",
    "\n",
    "if width<15 and length<15 and height<15:\n",
    "    print('Коробка №1')\n",
    "elif width<50 and length<50 and height<50:\n",
    "    print('Коробка №2')\n",
    "elif length >200:\n",
    "    print('Упаковка для лыж')\n",
    "else:\n",
    "    print('Стандартная коробка №3')\n"
   ]
  },
  {
   "cell_type": "markdown",
   "metadata": {},
   "source": [
    "Задание 5\n",
    "\n",
    "Дана переменная, в которой хранится шестизначное число (номер проездного билета). Напишите программу, которая будет определять, является ли данный билет \"счастливым\". Билет считается счастливым, если сумма первых трех цифр совпадает с суммой последних трех цифр номера."
   ]
  },
  {
   "cell_type": "code",
   "execution_count": 26,
   "metadata": {},
   "outputs": [
    {
     "name": "stdout",
     "output_type": "stream",
     "text": [
      "введите номер билета\n",
      "123456\n",
      "Несчастливый билет\n"
     ]
    }
   ],
   "source": [
    "print('введите номер билета')\n",
    "number = int(input())\n",
    "\n",
    "n6 = number%10\n",
    "n5 = (number//10)%10\n",
    "n4 = (number//100)%10\n",
    "n3 = (number//1000)%10\n",
    "n2 = (number//10000)%10\n",
    "n1 = number//100000\n",
    "\n",
    "#print(n1, n2, n3, n4, n5, n6)\n",
    "\n",
    "if (n1+n2+n3)==(n4+n5+n6):\n",
    "    print('Счастливый билет')\n",
    "else:\n",
    "    print('Несчастливый билет')\n"
   ]
  },
  {
   "cell_type": "markdown",
   "metadata": {},
   "source": [
    "Задание 6\n",
    "\n",
    "\n",
    "Напишите программу, которая сможет вычислять площади трех фигур (круг, треугольник и прямоугольник). Тип фигуры запрашиваем через пользовательский ввод, после чего делаем запрос характеристик фигуры:\n",
    "\n",
    "если пользователь выбрал круг, запрашиваем его радиус,\n",
    "если треугольник – длины трех его сторон;\n",
    "если прямоугольник – длины двух его сторон."
   ]
  },
  {
   "cell_type": "code",
   "execution_count": 35,
   "metadata": {},
   "outputs": [
    {
     "name": "stdout",
     "output_type": "stream",
     "text": [
      "Введите тип фигуры\n",
      "прямоугольник\n",
      "Введите длину стороны A\n",
      "3\n",
      "Введите длину стороны B\n",
      "4\n",
      "Площадь прямоугольника: 12.0\n"
     ]
    }
   ],
   "source": [
    "print('Введите тип фигуры')\n",
    "tip = input()\n",
    "tip =tip.lower()\n",
    "\n",
    "if tip == 'круг':\n",
    "    print('Введите радиус круга')\n",
    "    r = float(input())\n",
    "    s_kr = r*r*3.14159265358979323846\n",
    "    print('Площадь круга:', round(s_kr,2))\n",
    "elif tip == 'треугольник':\n",
    "    print('Введите длину стороны A')\n",
    "    str_a = float(input())\n",
    "    print('Введите длину стороны B')\n",
    "    str_b = float(input())\n",
    "    print('Введите длину стороны C')\n",
    "    str_c = float(input())\n",
    "    p_tr = (str_a + str_b + str_c)/2\n",
    "    s_tr = (p_tr * (p_tr - str_a) * (p_tr - str_b) * (p_tr - str_c))**0.5\n",
    "    print('Площадь треугольника:', round(s_tr, 2))\n",
    "elif tip == 'прямоугольник':\n",
    "    print('Введите длину стороны A')\n",
    "    str_a = float(input())\n",
    "    print('Введите длину стороны B')\n",
    "    str_b = float(input())\n",
    "    s_pr = str_a * str_b\n",
    "    print('Площадь прямоугольника:', round(s_pr, 2))\n",
    "else:\n",
    "    print('Неверный тип фигуры')\n",
    "    \n",
    "    \n"
   ]
  },
  {
   "cell_type": "code",
   "execution_count": null,
   "metadata": {},
   "outputs": [],
   "source": []
  }
 ],
 "metadata": {
  "kernelspec": {
   "display_name": "Python 3",
   "language": "python",
   "name": "python3"
  },
  "language_info": {
   "codemirror_mode": {
    "name": "ipython",
    "version": 3
   },
   "file_extension": ".py",
   "mimetype": "text/x-python",
   "name": "python",
   "nbconvert_exporter": "python",
   "pygments_lexer": "ipython3",
   "version": "3.8.3"
  }
 },
 "nbformat": 4,
 "nbformat_minor": 4
}
